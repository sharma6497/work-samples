{
 "cells": [
  {
   "cell_type": "code",
   "execution_count": 1,
   "metadata": {},
   "outputs": [],
   "source": [
    "#Importing Necessary  Modules\n",
    "import re           \n",
    "import pandas as pd\n",
    "import numpy as np\n",
    "import string\n",
    "from nltk.tokenize import word_tokenize\n",
    "from sklearn.model_selection import train_test_split\n",
    "from  sklearn.metrics import accuracy_score\n",
    "from sklearn.linear_model import LogisticRegression\n",
    "from  sklearn.feature_extraction.text import TfidfVectorizer,ENGLISH_STOP_WORDS"
   ]
  },
  {
   "cell_type": "code",
   "execution_count": 2,
   "metadata": {},
   "outputs": [
    {
     "name": "stdout",
     "output_type": "stream",
     "text": [
      "<bound method DataFrame.info of                                                  Date           Author  \\\n",
      "0                                        May 12, 2019            Renee   \n",
      "1                                       June 17, 2019        Tech nerd   \n",
      "2                                        June 5, 2019         Brittney   \n",
      "3                                       June 26, 2019            wkags   \n",
      "4                                        May 16, 2019  joseph thompson   \n",
      "..                                                ...              ...   \n",
      "95                                    August 27, 2019              Ace   \n",
      "96                                       July 3, 2019  Adeyanju Samuel   \n",
      "97                                   November 4, 2019         Noah C.    \n",
      "98                                  November 11, 2019     Cody Knappen   \n",
      "99  Platinum Plan or higher is required in order t...              NaN   \n",
      "\n",
      "   Verified Helpful                                              Title  \\\n",
      "0       yes     yes                Great, quality phone for the price!   \n",
      "1       yes     yes                             Best budget phone 2019   \n",
      "2       yes     yes         Good graphics, fast charging, great bezzel   \n",
      "3       yes     yes                                        Great Phone   \n",
      "4       yes     yes                                             Beware   \n",
      "..      ...     ...                                                ...   \n",
      "95      yes     yes  The screen looks amazing, and it's practically...   \n",
      "96      yes     yes                               Perfect and 100 % ok   \n",
      "97      yes     yes                           Best bang for your buck.   \n",
      "98      yes     yes              A great upgrade from my ZTE ZMAX Pro.   \n",
      "99      NaN     NaN                                                NaN   \n",
      "\n",
      "                                                 Body  Rating  \\\n",
      "0   I've only had the a20 for a week but I absolut...     5.0   \n",
      "1   This is pretty much a budget device.  That bei...     5.0   \n",
      "2   I really like this phone the graphics is gorge...     5.0   \n",
      "3   This is the 2nd phone I've purchased in the sa...     5.0   \n",
      "4                                The Wi-Fi don't work     1.0   \n",
      "..                                                ...     ...   \n",
      "95  Amoled screen, great battery, Samsung Dex, gre...     5.0   \n",
      "96  I am not disappointed buying this phone from N...     5.0   \n",
      "97  Purchased for my mother. Great budget phone th...     4.0   \n",
      "98  I just got this phone and it's beautiful. It h...     5.0   \n",
      "99                                                NaN     NaN   \n",
      "\n",
      "                                               Images Videos  \\\n",
      "0   https://images-na.ssl-images-amazon.com/images...      -   \n",
      "1                                                   -      -   \n",
      "2   https://images-na.ssl-images-amazon.com/images...      -   \n",
      "3                                                   -      -   \n",
      "4                                                   -      -   \n",
      "..                                                ...    ...   \n",
      "95                                                  -      -   \n",
      "96                                                  -      -   \n",
      "97                                                  -      -   \n",
      "98                                                  -      -   \n",
      "99                                                NaN    NaN   \n",
      "\n",
      "                                                  URL   Variation  \\\n",
      "0   https://www.amazon.com/gp/customer-reviews/R26...  B07QV2JKGQ   \n",
      "1   https://www.amazon.com/gp/customer-reviews/R2I...  B07R2F3G4Q   \n",
      "2   https://www.amazon.com/gp/customer-reviews/R22...  B07R2F3G4Q   \n",
      "3   https://www.amazon.com/gp/customer-reviews/R2R...  B07QV2JKGQ   \n",
      "4   https://www.amazon.com/gp/customer-reviews/R10...  B07R2F3G4Q   \n",
      "..                                                ...         ...   \n",
      "95  https://www.amazon.com/gp/customer-reviews/R18...  B07R2F3G4Q   \n",
      "96  https://www.amazon.com/gp/customer-reviews/RPL...  B07QV2JKGQ   \n",
      "97  https://www.amazon.com/gp/customer-reviews/RZQ...  B07R2F3G4Q   \n",
      "98  https://www.amazon.com/gp/customer-reviews/R32...  B07VZL3L5V   \n",
      "99                                                NaN         NaN   \n",
      "\n",
      "                                                Style  \n",
      "0                     Color: Deep Blue | Style: 32 GB  \n",
      "1   Color: Red | Style: International version, no ...  \n",
      "2   Color: Red | Style: International version, no ...  \n",
      "3                     Color: Deep Blue | Style: 32 GB  \n",
      "4   Color: Red | Style: International version, no ...  \n",
      "..                                                ...  \n",
      "95  Color: Red | Style: International version, no ...  \n",
      "96                    Color: Deep Blue | Style: 32 GB  \n",
      "97  Color: Red | Style: International version, no ...  \n",
      "98  Color: Black | Style: US version, 12 month war...  \n",
      "99                                                NaN  \n",
      "\n",
      "[100 rows x 12 columns]>\n"
     ]
    }
   ],
   "source": [
    "#Reading Dataset\n",
    "doc=pd.read_csv('data.csv')\n",
    "print(doc.info)\n"
   ]
  },
  {
   "cell_type": "code",
   "execution_count": 3,
   "metadata": {},
   "outputs": [],
   "source": [
    "review=doc[['Rating','Body']]"
   ]
  },
  {
   "cell_type": "code",
   "execution_count": 4,
   "metadata": {},
   "outputs": [
    {
     "name": "stdout",
     "output_type": "stream",
     "text": [
      "(99, 2)\n"
     ]
    },
    {
     "name": "stderr",
     "output_type": "stream",
     "text": [
      "C:\\Users\\SURENDAR\\Anaconda3\\lib\\site-packages\\ipykernel_launcher.py:1: SettingWithCopyWarning: \n",
      "A value is trying to be set on a copy of a slice from a DataFrame\n",
      "\n",
      "See the caveats in the documentation: http://pandas.pydata.org/pandas-docs/stable/user_guide/indexing.html#returning-a-view-versus-a-copy\n",
      "  \"\"\"Entry point for launching an IPython kernel.\n"
     ]
    },
    {
     "data": {
      "text/html": [
       "<div>\n",
       "<style scoped>\n",
       "    .dataframe tbody tr th:only-of-type {\n",
       "        vertical-align: middle;\n",
       "    }\n",
       "\n",
       "    .dataframe tbody tr th {\n",
       "        vertical-align: top;\n",
       "    }\n",
       "\n",
       "    .dataframe thead th {\n",
       "        text-align: right;\n",
       "    }\n",
       "</style>\n",
       "<table border=\"1\" class=\"dataframe\">\n",
       "  <thead>\n",
       "    <tr style=\"text-align: right;\">\n",
       "      <th></th>\n",
       "      <th>Rating</th>\n",
       "      <th>Body</th>\n",
       "    </tr>\n",
       "  </thead>\n",
       "  <tbody>\n",
       "    <tr>\n",
       "      <td>0</td>\n",
       "      <td>5.0</td>\n",
       "      <td>I've only had the a20 for a week but I absolut...</td>\n",
       "    </tr>\n",
       "    <tr>\n",
       "      <td>1</td>\n",
       "      <td>5.0</td>\n",
       "      <td>This is pretty much a budget device.  That bei...</td>\n",
       "    </tr>\n",
       "    <tr>\n",
       "      <td>2</td>\n",
       "      <td>5.0</td>\n",
       "      <td>I really like this phone the graphics is gorge...</td>\n",
       "    </tr>\n",
       "    <tr>\n",
       "      <td>3</td>\n",
       "      <td>5.0</td>\n",
       "      <td>This is the 2nd phone I've purchased in the sa...</td>\n",
       "    </tr>\n",
       "    <tr>\n",
       "      <td>4</td>\n",
       "      <td>1.0</td>\n",
       "      <td>The Wi-Fi don't work</td>\n",
       "    </tr>\n",
       "    <tr>\n",
       "      <td>...</td>\n",
       "      <td>...</td>\n",
       "      <td>...</td>\n",
       "    </tr>\n",
       "    <tr>\n",
       "      <td>94</td>\n",
       "      <td>5.0</td>\n",
       "      <td>I love my new phone! Had no issues hooking it ...</td>\n",
       "    </tr>\n",
       "    <tr>\n",
       "      <td>95</td>\n",
       "      <td>5.0</td>\n",
       "      <td>Amoled screen, great battery, Samsung Dex, gre...</td>\n",
       "    </tr>\n",
       "    <tr>\n",
       "      <td>96</td>\n",
       "      <td>5.0</td>\n",
       "      <td>I am not disappointed buying this phone from N...</td>\n",
       "    </tr>\n",
       "    <tr>\n",
       "      <td>97</td>\n",
       "      <td>4.0</td>\n",
       "      <td>Purchased for my mother. Great budget phone th...</td>\n",
       "    </tr>\n",
       "    <tr>\n",
       "      <td>98</td>\n",
       "      <td>5.0</td>\n",
       "      <td>I just got this phone and it's beautiful. It h...</td>\n",
       "    </tr>\n",
       "  </tbody>\n",
       "</table>\n",
       "<p>99 rows × 2 columns</p>\n",
       "</div>"
      ],
      "text/plain": [
       "   Rating                                               Body\n",
       "0     5.0  I've only had the a20 for a week but I absolut...\n",
       "1     5.0  This is pretty much a budget device.  That bei...\n",
       "2     5.0  I really like this phone the graphics is gorge...\n",
       "3     5.0  This is the 2nd phone I've purchased in the sa...\n",
       "4     1.0                               The Wi-Fi don't work\n",
       "..    ...                                                ...\n",
       "94    5.0  I love my new phone! Had no issues hooking it ...\n",
       "95    5.0  Amoled screen, great battery, Samsung Dex, gre...\n",
       "96    5.0  I am not disappointed buying this phone from N...\n",
       "97    4.0  Purchased for my mother. Great budget phone th...\n",
       "98    5.0  I just got this phone and it's beautiful. It h...\n",
       "\n",
       "[99 rows x 2 columns]"
      ]
     },
     "execution_count": 4,
     "metadata": {},
     "output_type": "execute_result"
    }
   ],
   "source": [
    "#droping missing values\n",
    "review.dropna(inplace=True)\n",
    "print(review.shape)\n",
    "review.astype('str')#coverting object type to string type"
   ]
  },
  {
   "cell_type": "code",
   "execution_count": 5,
   "metadata": {},
   "outputs": [
    {
     "name": "stdout",
     "output_type": "stream",
     "text": [
      "0     1\n",
      "1     1\n",
      "2     1\n",
      "3     1\n",
      "4     0\n",
      "     ..\n",
      "94    1\n",
      "95    1\n",
      "96    1\n",
      "97    1\n",
      "98    1\n",
      "Name: Rating, Length: 99, dtype: int64\n"
     ]
    },
    {
     "name": "stderr",
     "output_type": "stream",
     "text": [
      "C:\\Users\\SURENDAR\\Anaconda3\\lib\\site-packages\\ipykernel_launcher.py:6: SettingWithCopyWarning: \n",
      "A value is trying to be set on a copy of a slice from a DataFrame.\n",
      "Try using .loc[row_indexer,col_indexer] = value instead\n",
      "\n",
      "See the caveats in the documentation: http://pandas.pydata.org/pandas-docs/stable/user_guide/indexing.html#returning-a-view-versus-a-copy\n",
      "  \n"
     ]
    }
   ],
   "source": [
    "#Labeling target variable to 0 and 1\n",
    "def Rating(text):\n",
    "    if text >= 3.5:\n",
    "        return 1\n",
    "    else:\n",
    "        return 0\n",
    "review['Rating']=review['Rating'].apply(Rating)\n",
    "print(review.Rating)"
   ]
  },
  {
   "cell_type": "code",
   "execution_count": 6,
   "metadata": {},
   "outputs": [
    {
     "name": "stderr",
     "output_type": "stream",
     "text": [
      "C:\\Users\\SURENDAR\\Anaconda3\\lib\\site-packages\\ipykernel_launcher.py:3: SettingWithCopyWarning: \n",
      "A value is trying to be set on a copy of a slice from a DataFrame.\n",
      "Try using .loc[row_indexer,col_indexer] = value instead\n",
      "\n",
      "See the caveats in the documentation: http://pandas.pydata.org/pandas-docs/stable/user_guide/indexing.html#returning-a-view-versus-a-copy\n",
      "  This is separate from the ipykernel package so we can avoid doing imports until\n"
     ]
    }
   ],
   "source": [
    "#Extracting words  from the 'Body' column\n",
    "def noise_removal(text):\n",
    "    return re.sub('[^A-Za-z]+',' ',text)\n",
    "review['Body']=review['Body'].apply(noise_removal)"
   ]
  },
  {
   "cell_type": "code",
   "execution_count": 7,
   "metadata": {},
   "outputs": [
    {
     "name": "stdout",
     "output_type": "stream",
     "text": [
      "    Rating                                               Body\n",
      "0        1  i ve only had the a for a week but i absolutel...\n",
      "1        1  this is pretty much a budget device that being...\n",
      "2        1  i really like this phone the graphics is gorge...\n",
      "3        1  this is the nd phone i ve purchased in the sam...\n",
      "4        0                               the wi fi don t work\n",
      "..     ...                                                ...\n",
      "94       1  i love my new phone had no issues hooking it u...\n",
      "95       1  amoled screen great battery samsung dex great ...\n",
      "96       1  i am not disappointed buying this phone from n...\n",
      "97       1  purchased for my mother great budget phone tha...\n",
      "98       1  i just got this phone and it s beautiful it ha...\n",
      "\n",
      "[99 rows x 2 columns]\n"
     ]
    },
    {
     "name": "stderr",
     "output_type": "stream",
     "text": [
      "C:\\Users\\SURENDAR\\Anaconda3\\lib\\site-packages\\ipykernel_launcher.py:3: SettingWithCopyWarning: \n",
      "A value is trying to be set on a copy of a slice from a DataFrame.\n",
      "Try using .loc[row_indexer,col_indexer] = value instead\n",
      "\n",
      "See the caveats in the documentation: http://pandas.pydata.org/pandas-docs/stable/user_guide/indexing.html#returning-a-view-versus-a-copy\n",
      "  This is separate from the ipykernel package so we can avoid doing imports until\n"
     ]
    }
   ],
   "source": [
    "#converting text to lowercase\n",
    "def lower_case(text):\n",
    "    return text.lower()\n",
    "review['Body']=review['Body'].apply(lower_case)\n",
    "print(review)"
   ]
  },
  {
   "cell_type": "code",
   "execution_count": 8,
   "metadata": {},
   "outputs": [
    {
     "name": "stdout",
     "output_type": "stream",
     "text": [
      "    Rating                                               Body\n",
      "0        1  [i, ve, only, had, the, a, for, a, week, but, ...\n",
      "1        1  [this, is, pretty, much, a, budget, device, th...\n",
      "2        1  [i, really, like, this, phone, the, graphics, ...\n",
      "3        1  [this, is, the, nd, phone, i, ve, purchased, i...\n",
      "4        0                        [the, wi, fi, don, t, work]\n",
      "..     ...                                                ...\n",
      "94       1  [i, love, my, new, phone, had, no, issues, hoo...\n",
      "95       1  [amoled, screen, great, battery, samsung, dex,...\n",
      "96       1  [i, am, not, disappointed, buying, this, phone...\n",
      "97       1  [purchased, for, my, mother, great, budget, ph...\n",
      "98       1  [i, just, got, this, phone, and, it, s, beauti...\n",
      "\n",
      "[99 rows x 2 columns]\n"
     ]
    },
    {
     "name": "stderr",
     "output_type": "stream",
     "text": [
      "C:\\Users\\SURENDAR\\Anaconda3\\lib\\site-packages\\ipykernel_launcher.py:3: SettingWithCopyWarning: \n",
      "A value is trying to be set on a copy of a slice from a DataFrame.\n",
      "Try using .loc[row_indexer,col_indexer] = value instead\n",
      "\n",
      "See the caveats in the documentation: http://pandas.pydata.org/pandas-docs/stable/user_guide/indexing.html#returning-a-view-versus-a-copy\n",
      "  This is separate from the ipykernel package so we can avoid doing imports until\n"
     ]
    }
   ],
   "source": [
    "#tokenizing corpus\n",
    "def tokenizing(tokens):\n",
    "    return word_tokenize(tokens)\n",
    "review['Body']=review['Body'].apply(tokenizing)\n",
    "print(review)"
   ]
  },
  {
   "cell_type": "code",
   "execution_count": 9,
   "metadata": {},
   "outputs": [
    {
     "name": "stdout",
     "output_type": "stream",
     "text": [
      "0     i ve only had the a for a week but i absolutel...\n",
      "1     this is pretty much a budget device that being...\n",
      "2     i really like this phone the graphics is gorge...\n",
      "3     this is the nd phone i ve purchased in the sam...\n",
      "4                                  the wi fi don t work\n",
      "                            ...                        \n",
      "94    i love my new phone had no issues hooking it u...\n",
      "95    amoled screen great battery samsung dex great ...\n",
      "96    i am not disappointed buying this phone from n...\n",
      "97    purchased for my mother great budget phone tha...\n",
      "98    i just got this phone and it s beautiful it ha...\n",
      "Name: Body, Length: 99, dtype: object\n"
     ]
    },
    {
     "name": "stderr",
     "output_type": "stream",
     "text": [
      "C:\\Users\\SURENDAR\\Anaconda3\\lib\\site-packages\\ipykernel_launcher.py:3: SettingWithCopyWarning: \n",
      "A value is trying to be set on a copy of a slice from a DataFrame.\n",
      "Try using .loc[row_indexer,col_indexer] = value instead\n",
      "\n",
      "See the caveats in the documentation: http://pandas.pydata.org/pandas-docs/stable/user_guide/indexing.html#returning-a-view-versus-a-copy\n",
      "  This is separate from the ipykernel package so we can avoid doing imports until\n"
     ]
    }
   ],
   "source": [
    "#Converting tokens to strings\n",
    "def convert_to_string(text):\n",
    "    return ' '.join(text)\n",
    "review['Body']=review['Body'].apply(convert_to_string)\n",
    "print(review.Body)"
   ]
  },
  {
   "cell_type": "code",
   "execution_count": 10,
   "metadata": {
    "scrolled": true
   },
   "outputs": [
    {
     "name": "stdout",
     "output_type": "stream",
     "text": [
      "    aaaall  aaaall little      able  able activate  able better  able connect  \\\n",
      "0      0.0            0.0  0.087894            0.0          0.0           0.0   \n",
      "1      0.0            0.0  0.000000            0.0          0.0           0.0   \n",
      "2      0.0            0.0  0.000000            0.0          0.0           0.0   \n",
      "3      0.0            0.0  0.000000            0.0          0.0           0.0   \n",
      "4      0.0            0.0  0.000000            0.0          0.0           0.0   \n",
      "..     ...            ...       ...            ...          ...           ...   \n",
      "94     0.0            0.0  0.000000            0.0          0.0           0.0   \n",
      "95     0.0            0.0  0.000000            0.0          0.0           0.0   \n",
      "96     0.0            0.0  0.000000            0.0          0.0           0.0   \n",
      "97     0.0            0.0  0.000000            0.0          0.0           0.0   \n",
      "98     0.0            0.0  0.000000            0.0          0.0           0.0   \n",
      "\n",
      "    able primarily  able switch  absolutely  absolutely hate  ...  yes does  \\\n",
      "0              0.0     0.113216    0.092097              0.0  ...       0.0   \n",
      "1              0.0     0.000000    0.000000              0.0  ...       0.0   \n",
      "2              0.0     0.000000    0.000000              0.0  ...       0.0   \n",
      "3              0.0     0.000000    0.000000              0.0  ...       0.0   \n",
      "4              0.0     0.000000    0.000000              0.0  ...       0.0   \n",
      "..             ...          ...         ...              ...  ...       ...   \n",
      "94             0.0     0.000000    0.000000              0.0  ...       0.0   \n",
      "95             0.0     0.000000    0.000000              0.0  ...       0.0   \n",
      "96             0.0     0.000000    0.000000              0.0  ...       0.0   \n",
      "97             0.0     0.000000    0.000000              0.0  ...       0.0   \n",
      "98             0.0     0.000000    0.000000              0.0  ...       0.0   \n",
      "\n",
      "    yesterday  yesterday excited  yesterday morning  youtube  youtube head  \\\n",
      "0         0.0                0.0                0.0      0.0           0.0   \n",
      "1         0.0                0.0                0.0      0.0           0.0   \n",
      "2         0.0                0.0                0.0      0.0           0.0   \n",
      "3         0.0                0.0                0.0      0.0           0.0   \n",
      "4         0.0                0.0                0.0      0.0           0.0   \n",
      "..        ...                ...                ...      ...           ...   \n",
      "94        0.0                0.0                0.0      0.0           0.0   \n",
      "95        0.0                0.0                0.0      0.0           0.0   \n",
      "96        0.0                0.0                0.0      0.0           0.0   \n",
      "97        0.0                0.0                0.0      0.0           0.0   \n",
      "98        0.0                0.0                0.0      0.0           0.0   \n",
      "\n",
      "     yr  yr old  zone  zone cell  \n",
      "0   0.0     0.0   0.0        0.0  \n",
      "1   0.0     0.0   0.0        0.0  \n",
      "2   0.0     0.0   0.0        0.0  \n",
      "3   0.0     0.0   0.0        0.0  \n",
      "4   0.0     0.0   0.0        0.0  \n",
      "..  ...     ...   ...        ...  \n",
      "94  0.0     0.0   0.0        0.0  \n",
      "95  0.0     0.0   0.0        0.0  \n",
      "96  0.0     0.0   0.0        0.0  \n",
      "97  0.0     0.0   0.0        0.0  \n",
      "98  0.0     0.0   0.0        0.0  \n",
      "\n",
      "[99 rows x 4071 columns]\n",
      "0     1\n",
      "1     1\n",
      "2     1\n",
      "3     1\n",
      "4     0\n",
      "     ..\n",
      "94    1\n",
      "95    1\n",
      "96    1\n",
      "97    1\n",
      "98    1\n",
      "Name: Rating, Length: 99, dtype: int64\n"
     ]
    }
   ],
   "source": [
    "#creating Tfidf model to vectorize words in the corpus\n",
    "vect=TfidfVectorizer(ngram_range=(1,2),stop_words=ENGLISH_STOP_WORDS)\n",
    "tfidf_model=vect.fit_transform(review.Body)\n",
    "#converting sparse matrix  to array to create dataframe\n",
    "x=pd.DataFrame(tfidf_model.toarray(),columns=vect.get_feature_names())\n",
    "print(x)   \n",
    "y=review.Rating\n",
    "print(y)\n"
   ]
  },
  {
   "cell_type": "code",
   "execution_count": 11,
   "metadata": {},
   "outputs": [
    {
     "name": "stderr",
     "output_type": "stream",
     "text": [
      "C:\\Users\\SURENDAR\\Anaconda3\\lib\\site-packages\\sklearn\\linear_model\\logistic.py:432: FutureWarning: Default solver will be changed to 'lbfgs' in 0.22. Specify a solver to silence this warning.\n",
      "  FutureWarning)\n"
     ]
    },
    {
     "name": "stdout",
     "output_type": "stream",
     "text": [
      "accuracy score: 0.75\n"
     ]
    }
   ],
   "source": [
    "#using logistic regression to fit ML model\n",
    "x_train,x_test,y_train,y_test=train_test_split(x,y,test_size=0.2,random_state=123,stratify=y)\n",
    "log_reg=LogisticRegression().fit(x_train,y_train)\n",
    "y_predict=log_reg.predict(x_test)\n",
    "print('accuracy score:',accuracy_score(y_predict,y_test))"
   ]
  }
 ],
 "metadata": {
  "kernelspec": {
   "display_name": "Python 3",
   "language": "python",
   "name": "python3"
  },
  "language_info": {
   "codemirror_mode": {
    "name": "ipython",
    "version": 3
   },
   "file_extension": ".py",
   "mimetype": "text/x-python",
   "name": "python",
   "nbconvert_exporter": "python",
   "pygments_lexer": "ipython3",
   "version": "3.7.4"
  }
 },
 "nbformat": 4,
 "nbformat_minor": 2
}
